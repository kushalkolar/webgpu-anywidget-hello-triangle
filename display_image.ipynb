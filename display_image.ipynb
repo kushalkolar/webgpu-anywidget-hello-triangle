{
 "cells": [
  {
   "cell_type": "code",
   "execution_count": null,
   "id": "7f693746-8e0f-4991-9f70-f587c86e02e9",
   "metadata": {
    "scrolled": true
   },
   "outputs": [],
   "source": [
    "import anywidget\n",
    "import traitlets\n",
    "import numpy as np\n",
    "\n",
    "\n",
    "class WebGPUCanvas(anywidget.AnyWidget):\n",
    "    _esm = \"image.js\"\n",
    "    _options = traitlets.Dict().tag(sync=True)\n",
    "    # Add texture_data as a synced trait so JavaScript can observe changes\n",
    "    texture_data = traitlets.Bytes().tag(sync=True)\n",
    "    \n",
    "    def __init__(self,\n",
    "        *,\n",
    "        image_bytes: bytes,\n",
    "        image_width,\n",
    "        image_height,\n",
    "        width = 500,\n",
    "        height = 500,\n",
    "        **kwargs,\n",
    "    ):\n",
    "        options = {\n",
    "            \"image_width\": image_width, \n",
    "            \"image_height\": image_height, \n",
    "            \"width\": width, \n",
    "            \"height\": height\n",
    "        }\n",
    "        \n",
    "        super().__init__(_options=options, texture_data=image_bytes, **kwargs)\n",
    "\n",
    "\n",
    "# Example usage:\n",
    "image = np.random.rand(200, 200, 4)\n",
    "image *= 255\n",
    "\n",
    "canvas = WebGPUCanvas(\n",
    "    image_bytes = image.astype(np.uint8).tobytes(),\n",
    "    image_width=image.shape[1],\n",
    "    image_height=image.shape[0],\n",
    ")\n",
    "\n",
    "canvas"
   ]
  },
  {
   "cell_type": "code",
   "execution_count": null,
   "id": "db6912ea-05ba-440a-84a2-0a1f2de01f44",
   "metadata": {},
   "outputs": [],
   "source": [
    "while True:\n",
    "    canvas.texture_data = (np.random.rand(200, 200, 4) * 255).astype(np.uint8).tobytes()"
   ]
  },
  {
   "cell_type": "code",
   "execution_count": null,
   "id": "eceb8075-5aa5-4969-ae12-12bb8d6a3f95",
   "metadata": {},
   "outputs": [],
   "source": []
  },
  {
   "cell_type": "code",
   "execution_count": null,
   "id": "607642a5-4b4f-487b-a7c6-23956f9f35de",
   "metadata": {},
   "outputs": [],
   "source": []
  }
 ],
 "metadata": {
  "kernelspec": {
   "display_name": "Python 3 (ipykernel)",
   "language": "python",
   "name": "python3"
  },
  "language_info": {
   "codemirror_mode": {
    "name": "ipython",
    "version": 3
   },
   "file_extension": ".py",
   "mimetype": "text/x-python",
   "name": "python",
   "nbconvert_exporter": "python",
   "pygments_lexer": "ipython3",
   "version": "3.11.3"
  }
 },
 "nbformat": 4,
 "nbformat_minor": 5
}
