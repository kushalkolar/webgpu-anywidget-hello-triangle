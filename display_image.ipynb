{
 "cells": [
  {
   "cell_type": "code",
   "execution_count": 21,
   "id": "7f693746-8e0f-4991-9f70-f587c86e02e9",
   "metadata": {},
   "outputs": [
    {
     "data": {
      "application/vnd.jupyter.widget-view+json": {
       "model_id": "18faab47807e4837892b3afdfd59c5fe",
       "version_major": 2,
       "version_minor": 1
      },
      "text/plain": [
       "WebGPUCanvas()"
      ]
     },
     "execution_count": 21,
     "metadata": {},
     "output_type": "execute_result"
    }
   ],
   "source": [
    "import anywidget\n",
    "import traitlets\n",
    "import numpy as np\n",
    "\n",
    "\n",
    "class WebGPUCanvas(anywidget.AnyWidget):\n",
    "    _esm = \"image.js\"\n",
    "    _options = traitlets.Dict().tag(sync=True)\n",
    "    \n",
    "    def __init__(self,\n",
    "        *,\n",
    "        image_bytes: bytes,\n",
    "        image_width,\n",
    "        image_height,\n",
    "        width = 500,\n",
    "        height = 500,\n",
    "        **kwargs,\n",
    "    ):\n",
    "        options = {\n",
    "            \"image_bytes\": image_bytes, \n",
    "            \"image_width\": image_width, \n",
    "            \"image_height\": image_height, \n",
    "            \"width\": width, \n",
    "            \"height\": height\n",
    "        }\n",
    "        \n",
    "        super().__init__(_options=options, **kwargs)\n",
    "\n",
    "image = np.random.rand(200, 200, 4) * 255\n",
    "image *= 255\n",
    "\n",
    "\n",
    "canvas = WebGPUCanvas(\n",
    "    image_bytes = image.astype(np.uint8).tobytes(),\n",
    "    image_width=image.shape[1],\n",
    "    image_height=image.shape[0],\n",
    ")\n",
    "\n",
    "canvas"
   ]
  },
  {
   "cell_type": "code",
   "execution_count": null,
   "id": "2728dfca-02ee-4b9f-9710-b6e939548caa",
   "metadata": {},
   "outputs": [],
   "source": []
  }
 ],
 "metadata": {
  "kernelspec": {
   "display_name": "Python 3 (ipykernel)",
   "language": "python",
   "name": "python3"
  },
  "language_info": {
   "codemirror_mode": {
    "name": "ipython",
    "version": 3
   },
   "file_extension": ".py",
   "mimetype": "text/x-python",
   "name": "python",
   "nbconvert_exporter": "python",
   "pygments_lexer": "ipython3",
   "version": "3.12.8"
  }
 },
 "nbformat": 4,
 "nbformat_minor": 5
}
