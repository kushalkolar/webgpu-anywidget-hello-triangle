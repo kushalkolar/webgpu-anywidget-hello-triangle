{
 "cells": [
  {
   "cell_type": "code",
   "execution_count": 1,
   "id": "7f693746-8e0f-4991-9f70-f587c86e02e9",
   "metadata": {},
   "outputs": [
    {
     "data": {
      "application/vnd.jupyter.widget-view+json": {
       "model_id": "3299d6a721bc476ba0e0711cea8bc213",
       "version_major": 2,
       "version_minor": 1
      },
      "text/plain": [
       "WebGPUCanvas()"
      ]
     },
     "execution_count": 1,
     "metadata": {},
     "output_type": "execute_result"
    }
   ],
   "source": [
    "import anywidget\n",
    "import traitlets\n",
    "\n",
    "class WebGPUCanvas(anywidget.AnyWidget):\n",
    "    _esm = \"index.js\"\n",
    "    _options = traitlets.Dict().tag(sync=True)\n",
    "    \n",
    "    def __init__(self,\n",
    "        *,\n",
    "        width = 500,\n",
    "        height = 500,\n",
    "        **kwargs,\n",
    "    ):\n",
    "        options = { \"width\": width, \"height\": height }\n",
    "        super().__init__(_options=options, **kwargs)\n",
    "\n",
    "canvas = WebGPUCanvas()\n",
    "\n",
    "canvas"
   ]
  }
 ],
 "metadata": {
  "kernelspec": {
   "display_name": "Python 3 (ipykernel)",
   "language": "python",
   "name": "python3"
  },
  "language_info": {
   "codemirror_mode": {
    "name": "ipython",
    "version": 3
   },
   "file_extension": ".py",
   "mimetype": "text/x-python",
   "name": "python",
   "nbconvert_exporter": "python",
   "pygments_lexer": "ipython3",
   "version": "3.12.8"
  }
 },
 "nbformat": 4,
 "nbformat_minor": 5
}
